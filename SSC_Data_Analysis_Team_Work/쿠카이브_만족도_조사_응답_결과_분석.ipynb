{
  "nbformat": 4,
  "nbformat_minor": 0,
  "metadata": {
    "colab": {
      "provenance": []
    },
    "kernelspec": {
      "name": "python3",
      "display_name": "Python 3"
    },
    "language_info": {
      "name": "python"
    }
  },
  "cells": [
    {
      "cell_type": "code",
      "execution_count": null,
      "metadata": {
        "id": "es10OndW_txz",
        "colab": {
          "base_uri": "https://localhost:8080/",
          "height": 333
        },
        "outputId": "0f87c61f-5680-4fab-f2fc-3e5f544e7f7f",
        "collapsed": true
      },
      "outputs": [
        {
          "output_type": "error",
          "ename": "FileNotFoundError",
          "evalue": "[Errno 2] No such file or directory: '2023학년도 쿠카이브 만족도 조사 응답 결과_학생.csv'",
          "traceback": [
            "\u001b[0;31m---------------------------------------------------------------------------\u001b[0m",
            "\u001b[0;31mFileNotFoundError\u001b[0m                         Traceback (most recent call last)",
            "\u001b[0;32m<ipython-input-2-776b112af092>\u001b[0m in \u001b[0;36m<cell line: 3>\u001b[0;34m()\u001b[0m\n\u001b[1;32m      1\u001b[0m \u001b[0;32mimport\u001b[0m \u001b[0mpandas\u001b[0m \u001b[0;32mas\u001b[0m \u001b[0mpd\u001b[0m\u001b[0;34m\u001b[0m\u001b[0;34m\u001b[0m\u001b[0m\n\u001b[1;32m      2\u001b[0m \u001b[0;34m\u001b[0m\u001b[0m\n\u001b[0;32m----> 3\u001b[0;31m \u001b[0mraw_data\u001b[0m \u001b[0;34m=\u001b[0m \u001b[0mpd\u001b[0m\u001b[0;34m.\u001b[0m\u001b[0mread_csv\u001b[0m\u001b[0;34m(\u001b[0m\u001b[0;34m'2023학년도 쿠카이브 만족도 조사 응답 결과_학생.csv'\u001b[0m\u001b[0;34m,\u001b[0m \u001b[0mencoding\u001b[0m \u001b[0;34m=\u001b[0m \u001b[0;34m'cp949'\u001b[0m\u001b[0;34m)\u001b[0m\u001b[0;34m\u001b[0m\u001b[0;34m\u001b[0m\u001b[0m\n\u001b[0m",
            "\u001b[0;32m/usr/local/lib/python3.10/dist-packages/pandas/io/parsers/readers.py\u001b[0m in \u001b[0;36mread_csv\u001b[0;34m(filepath_or_buffer, sep, delimiter, header, names, index_col, usecols, dtype, engine, converters, true_values, false_values, skipinitialspace, skiprows, skipfooter, nrows, na_values, keep_default_na, na_filter, verbose, skip_blank_lines, parse_dates, infer_datetime_format, keep_date_col, date_parser, date_format, dayfirst, cache_dates, iterator, chunksize, compression, thousands, decimal, lineterminator, quotechar, quoting, doublequote, escapechar, comment, encoding, encoding_errors, dialect, on_bad_lines, delim_whitespace, low_memory, memory_map, float_precision, storage_options, dtype_backend)\u001b[0m\n\u001b[1;32m    910\u001b[0m     \u001b[0mkwds\u001b[0m\u001b[0;34m.\u001b[0m\u001b[0mupdate\u001b[0m\u001b[0;34m(\u001b[0m\u001b[0mkwds_defaults\u001b[0m\u001b[0;34m)\u001b[0m\u001b[0;34m\u001b[0m\u001b[0;34m\u001b[0m\u001b[0m\n\u001b[1;32m    911\u001b[0m \u001b[0;34m\u001b[0m\u001b[0m\n\u001b[0;32m--> 912\u001b[0;31m     \u001b[0;32mreturn\u001b[0m \u001b[0m_read\u001b[0m\u001b[0;34m(\u001b[0m\u001b[0mfilepath_or_buffer\u001b[0m\u001b[0;34m,\u001b[0m \u001b[0mkwds\u001b[0m\u001b[0;34m)\u001b[0m\u001b[0;34m\u001b[0m\u001b[0;34m\u001b[0m\u001b[0m\n\u001b[0m\u001b[1;32m    913\u001b[0m \u001b[0;34m\u001b[0m\u001b[0m\n\u001b[1;32m    914\u001b[0m \u001b[0;34m\u001b[0m\u001b[0m\n",
            "\u001b[0;32m/usr/local/lib/python3.10/dist-packages/pandas/io/parsers/readers.py\u001b[0m in \u001b[0;36m_read\u001b[0;34m(filepath_or_buffer, kwds)\u001b[0m\n\u001b[1;32m    575\u001b[0m \u001b[0;34m\u001b[0m\u001b[0m\n\u001b[1;32m    576\u001b[0m     \u001b[0;31m# Create the parser.\u001b[0m\u001b[0;34m\u001b[0m\u001b[0;34m\u001b[0m\u001b[0m\n\u001b[0;32m--> 577\u001b[0;31m     \u001b[0mparser\u001b[0m \u001b[0;34m=\u001b[0m \u001b[0mTextFileReader\u001b[0m\u001b[0;34m(\u001b[0m\u001b[0mfilepath_or_buffer\u001b[0m\u001b[0;34m,\u001b[0m \u001b[0;34m**\u001b[0m\u001b[0mkwds\u001b[0m\u001b[0;34m)\u001b[0m\u001b[0;34m\u001b[0m\u001b[0;34m\u001b[0m\u001b[0m\n\u001b[0m\u001b[1;32m    578\u001b[0m \u001b[0;34m\u001b[0m\u001b[0m\n\u001b[1;32m    579\u001b[0m     \u001b[0;32mif\u001b[0m \u001b[0mchunksize\u001b[0m \u001b[0;32mor\u001b[0m \u001b[0miterator\u001b[0m\u001b[0;34m:\u001b[0m\u001b[0;34m\u001b[0m\u001b[0;34m\u001b[0m\u001b[0m\n",
            "\u001b[0;32m/usr/local/lib/python3.10/dist-packages/pandas/io/parsers/readers.py\u001b[0m in \u001b[0;36m__init__\u001b[0;34m(self, f, engine, **kwds)\u001b[0m\n\u001b[1;32m   1405\u001b[0m \u001b[0;34m\u001b[0m\u001b[0m\n\u001b[1;32m   1406\u001b[0m         \u001b[0mself\u001b[0m\u001b[0;34m.\u001b[0m\u001b[0mhandles\u001b[0m\u001b[0;34m:\u001b[0m \u001b[0mIOHandles\u001b[0m \u001b[0;34m|\u001b[0m \u001b[0;32mNone\u001b[0m \u001b[0;34m=\u001b[0m \u001b[0;32mNone\u001b[0m\u001b[0;34m\u001b[0m\u001b[0;34m\u001b[0m\u001b[0m\n\u001b[0;32m-> 1407\u001b[0;31m         \u001b[0mself\u001b[0m\u001b[0;34m.\u001b[0m\u001b[0m_engine\u001b[0m \u001b[0;34m=\u001b[0m \u001b[0mself\u001b[0m\u001b[0;34m.\u001b[0m\u001b[0m_make_engine\u001b[0m\u001b[0;34m(\u001b[0m\u001b[0mf\u001b[0m\u001b[0;34m,\u001b[0m \u001b[0mself\u001b[0m\u001b[0;34m.\u001b[0m\u001b[0mengine\u001b[0m\u001b[0;34m)\u001b[0m\u001b[0;34m\u001b[0m\u001b[0;34m\u001b[0m\u001b[0m\n\u001b[0m\u001b[1;32m   1408\u001b[0m \u001b[0;34m\u001b[0m\u001b[0m\n\u001b[1;32m   1409\u001b[0m     \u001b[0;32mdef\u001b[0m \u001b[0mclose\u001b[0m\u001b[0;34m(\u001b[0m\u001b[0mself\u001b[0m\u001b[0;34m)\u001b[0m \u001b[0;34m->\u001b[0m \u001b[0;32mNone\u001b[0m\u001b[0;34m:\u001b[0m\u001b[0;34m\u001b[0m\u001b[0;34m\u001b[0m\u001b[0m\n",
            "\u001b[0;32m/usr/local/lib/python3.10/dist-packages/pandas/io/parsers/readers.py\u001b[0m in \u001b[0;36m_make_engine\u001b[0;34m(self, f, engine)\u001b[0m\n\u001b[1;32m   1659\u001b[0m                 \u001b[0;32mif\u001b[0m \u001b[0;34m\"b\"\u001b[0m \u001b[0;32mnot\u001b[0m \u001b[0;32min\u001b[0m \u001b[0mmode\u001b[0m\u001b[0;34m:\u001b[0m\u001b[0;34m\u001b[0m\u001b[0;34m\u001b[0m\u001b[0m\n\u001b[1;32m   1660\u001b[0m                     \u001b[0mmode\u001b[0m \u001b[0;34m+=\u001b[0m \u001b[0;34m\"b\"\u001b[0m\u001b[0;34m\u001b[0m\u001b[0;34m\u001b[0m\u001b[0m\n\u001b[0;32m-> 1661\u001b[0;31m             self.handles = get_handle(\n\u001b[0m\u001b[1;32m   1662\u001b[0m                 \u001b[0mf\u001b[0m\u001b[0;34m,\u001b[0m\u001b[0;34m\u001b[0m\u001b[0;34m\u001b[0m\u001b[0m\n\u001b[1;32m   1663\u001b[0m                 \u001b[0mmode\u001b[0m\u001b[0;34m,\u001b[0m\u001b[0;34m\u001b[0m\u001b[0;34m\u001b[0m\u001b[0m\n",
            "\u001b[0;32m/usr/local/lib/python3.10/dist-packages/pandas/io/common.py\u001b[0m in \u001b[0;36mget_handle\u001b[0;34m(path_or_buf, mode, encoding, compression, memory_map, is_text, errors, storage_options)\u001b[0m\n\u001b[1;32m    857\u001b[0m         \u001b[0;32mif\u001b[0m \u001b[0mioargs\u001b[0m\u001b[0;34m.\u001b[0m\u001b[0mencoding\u001b[0m \u001b[0;32mand\u001b[0m \u001b[0;34m\"b\"\u001b[0m \u001b[0;32mnot\u001b[0m \u001b[0;32min\u001b[0m \u001b[0mioargs\u001b[0m\u001b[0;34m.\u001b[0m\u001b[0mmode\u001b[0m\u001b[0;34m:\u001b[0m\u001b[0;34m\u001b[0m\u001b[0;34m\u001b[0m\u001b[0m\n\u001b[1;32m    858\u001b[0m             \u001b[0;31m# Encoding\u001b[0m\u001b[0;34m\u001b[0m\u001b[0;34m\u001b[0m\u001b[0m\n\u001b[0;32m--> 859\u001b[0;31m             handle = open(\n\u001b[0m\u001b[1;32m    860\u001b[0m                 \u001b[0mhandle\u001b[0m\u001b[0;34m,\u001b[0m\u001b[0;34m\u001b[0m\u001b[0;34m\u001b[0m\u001b[0m\n\u001b[1;32m    861\u001b[0m                 \u001b[0mioargs\u001b[0m\u001b[0;34m.\u001b[0m\u001b[0mmode\u001b[0m\u001b[0;34m,\u001b[0m\u001b[0;34m\u001b[0m\u001b[0;34m\u001b[0m\u001b[0m\n",
            "\u001b[0;31mFileNotFoundError\u001b[0m: [Errno 2] No such file or directory: '2023학년도 쿠카이브 만족도 조사 응답 결과_학생.csv'"
          ]
        }
      ],
      "source": [
        "import pandas as pd\n",
        "\n",
        "raw_data = pd.read_csv('2023학년도 쿠카이브 만족도 조사 응답 결과_학생.csv', encoding = 'cp949')"
      ]
    },
    {
      "cell_type": "code",
      "source": [
        "from google.colab import drive\n",
        "drive.mount('/content/drive')"
      ],
      "metadata": {
        "id": "Y5Y8-9spMwW5"
      },
      "execution_count": null,
      "outputs": []
    },
    {
      "cell_type": "code",
      "source": [
        "raw_data = raw_data.drop(['응답여부', '응답일시'], axis =1)"
      ],
      "metadata": {
        "id": "qNYBEMcyMJMi"
      },
      "execution_count": null,
      "outputs": []
    },
    {
      "cell_type": "markdown",
      "source": [
        "##전공별로 사용자 분류\n",
        "\n",
        "분류코드\n",
        "대학원 : 0, 대학생 1\n",
        "\n",
        "대학원 : 242개\n",
        "대학생 : 545개"
      ],
      "metadata": {
        "id": "Z0m4CgE8MrDH"
      }
    },
    {
      "cell_type": "markdown",
      "source": [
        "대학생 단과대 코드\n",
        "\n",
        "0 : 경영대학\n",
        "1 : 문과대학\n",
        "2 : 생명과학대학\n",
        "3 : 정경대학\n",
        "4 : 이과대학\n",
        "5 : 공과대학\n",
        "6 : 의과대학\n",
        "7 : 사범대학\n",
        "8 : 간호대학\n",
        "9 : 정보대학\n",
        "10 : 디자인조형학부\n",
        "11 : 국제대학\n",
        "12 : 미디어학부\n",
        "13 : 보건과학대학\n",
        "14 : 자유전공학부\n",
        "15 : 스마트보안학부\n",
        "16 : 심리학부\n",
        "17 : 스마트모빌리티학부"
      ],
      "metadata": {
        "id": "M-x_mJEWObOP"
      }
    },
    {
      "cell_type": "code",
      "source": [
        "raw_data.loc[raw_data['신분'] == '학생(대학원)', '신분'] = 0\n",
        "raw_data.loc[raw_data['신분'] == '학생', '신분'] = 1"
      ],
      "metadata": {
        "id": "aA1PrGoFMnqQ"
      },
      "execution_count": null,
      "outputs": []
    },
    {
      "cell_type": "code",
      "source": [
        "graduate_data = raw_data.loc[raw_data['신분'] == 0]\n",
        "graduate_data = graduate_data.drop(['소속대학원', '전공', '세부전공'], axis = 1)\n",
        "undergraduate_data = raw_data.loc[raw_data['신분'] == 1]\n",
        "undergraduate_data = undergraduate_data.drop(['소속대학원', '전공', '세부전공'], axis = 1)"
      ],
      "metadata": {
        "id": "5XOZxP0hQX_C"
      },
      "execution_count": null,
      "outputs": []
    },
    {
      "cell_type": "code",
      "source": [
        "department_code_map = {\n",
        "    '경영학과': 0,\n",
        "    '국어국문학과': 1, '영어영문학과': 1, '철학과': 1, '한국사학과': 1, '사학과': 1, '사회학과': 1, '독어독문학과': 1, '불어불문학과': 1, '중어중문학과': 1, '노어노문학과': 1, '일어일문학과': 1, '서어서문학과': 1, '한문학과': 1, '언어학과': 1,\n",
        "    '생명과학부': 2, '생명공학부': 2, '식품공학부': 2, '환경생태공학부': 2, '식품자원경제학과': 2,\n",
        "    '정치외교학과': 3, '경제학과': 3, '통계학과': 3, '행정학과': 3,\n",
        "    '수학과': 4, '물리학과': 4, '화학과': 4, '지구환경과학과': 4,\n",
        "    '화공생명공학과': 5, '신소재공학부': 5, '건축사회환경공학부': 5, '건축학과': 5, '기계공학부': 5, '산업경영공학부': 5, '전기전자공학부': 5, '반도체공학과': 5, '융합에너지공학과': 5, '차세대통신학과': 5,\n",
        "    '의예과': 6,\n",
        "    '교육학과': 7, '체육교육과': 7, '가정교육과': 7, '수학교육과': 7, '국어교육과': 7, '영어교육과': 7, '지리교육과': 7, '역사교육과': 7,\n",
        "    '간호학과': 8,\n",
        "    '컴퓨터학과': 9, '데이터과학과': 9,\n",
        "    '디자인조형학과': 10,\n",
        "    '국제학부': 11, '글로벌한국융합학부': 11, '글로벌자율학부': 11,\n",
        "    '미디어학부': 12,\n",
        "    '바이오의공학부': 13, '바이오시스템의과학부': 13, '보건환경융합과학부': 13, '보건정책관리학부': 13,\n",
        "    '자유전공학부': 14,\n",
        "    '스마트보안학부': 15,\n",
        "    '심리학부': 16,\n",
        "    '스마트모빌리티학부': 17\n",
        "}"
      ],
      "metadata": {
        "id": "bqrIawx1Q0WG"
      },
      "execution_count": null,
      "outputs": []
    },
    {
      "cell_type": "code",
      "source": [
        "undergraduate_data['소속'] = undergraduate_data['소속'].map(department_code_map)"
      ],
      "metadata": {
        "id": "bpzFP7NoZjbu"
      },
      "execution_count": null,
      "outputs": []
    },
    {
      "cell_type": "code",
      "source": [
        "undergraduate_data['소속'].value_counts()"
      ],
      "metadata": {
        "id": "tycwfUfYZmQ_",
        "colab": {
          "base_uri": "https://localhost:8080/"
        },
        "outputId": "0bdce100-3a63-4a67-b0ad-d9664d7cac91"
      },
      "execution_count": null,
      "outputs": [
        {
          "output_type": "execute_result",
          "data": {
            "text/plain": [
              "소속\n",
              "5.0     121\n",
              "1.0     110\n",
              "3.0      58\n",
              "2.0      48\n",
              "0.0      43\n",
              "13.0     35\n",
              "7.0      26\n",
              "9.0      19\n",
              "16.0     17\n",
              "8.0      13\n",
              "4.0      12\n",
              "11.0     11\n",
              "6.0       7\n",
              "12.0      6\n",
              "14.0      4\n",
              "15.0      3\n",
              "Name: count, dtype: int64"
            ]
          },
          "metadata": {},
          "execution_count": 16
        }
      ]
    },
    {
      "cell_type": "code",
      "source": [
        "#쿠카이브가 자신에게 필요하다고 생각하십니까?\n",
        "Q4_code_map = {\n",
        "    '매우 그렇다.': 5, '그렇다.': 4, '보통이다.': 3, '그렇지 않다.': 2, '전혀 그렇지 않다.': 1\n",
        "}"
      ],
      "metadata": {
        "id": "MiBiKibPdbt7"
      },
      "execution_count": null,
      "outputs": []
    },
    {
      "cell_type": "code",
      "source": [
        "undergraduate_data['쿠카이브가 자신에게 필요하다고 생각하십니까?'] = undergraduate_data['쿠카이브가 자신에게 필요하다고 생각하십니까?'].map(Q4_code_map)"
      ],
      "metadata": {
        "id": "DjAnpfbnSAm4"
      },
      "execution_count": null,
      "outputs": []
    },
    {
      "cell_type": "code",
      "source": [
        "undergraduate_data['쿠카이브가 자신에게 필요하다고 생각하십니까?'].value_counts()"
      ],
      "metadata": {
        "id": "wCjCWCi7Y1lP",
        "colab": {
          "base_uri": "https://localhost:8080/"
        },
        "outputId": "63269fc2-868f-4482-ae3f-fa9c48358e2a"
      },
      "execution_count": null,
      "outputs": [
        {
          "output_type": "execute_result",
          "data": {
            "text/plain": [
              "쿠카이브가 자신에게 필요하다고 생각하십니까?\n",
              "4.0    255\n",
              "5.0    144\n",
              "3.0    121\n",
              "2.0     22\n",
              "1.0      1\n",
              "Name: count, dtype: int64"
            ]
          },
          "metadata": {},
          "execution_count": 19
        }
      ]
    },
    {
      "cell_type": "code",
      "source": [
        "(4*255 + 5*144 + 3*121 + 2*22 + 1*1)/(255+144+121+22+1)"
      ],
      "metadata": {
        "colab": {
          "base_uri": "https://localhost:8080/"
        },
        "id": "Z8Sn-1s15G5Y",
        "outputId": "83edfabc-a8f5-4d67-b26e-0b78512d49d7"
      },
      "execution_count": null,
      "outputs": [
        {
          "output_type": "execute_result",
          "data": {
            "text/plain": [
              "3.955801104972376"
            ]
          },
          "metadata": {},
          "execution_count": 2
        }
      ]
    },
    {
      "cell_type": "markdown",
      "source": [],
      "metadata": {
        "id": "XNSkJLUR-fAQ"
      }
    },
    {
      "cell_type": "code",
      "source": [
        "for i in range(18):\n",
        "  filtered_df = undergraduate_data[undergraduate_data['소속'] == i]\n",
        "  average = filtered_df['쿠카이브가 자신에게 필요하다고 생각하십니까?'].mean()\n",
        "  counts = filtered_df['쿠카이브가 자신에게 필요하다고 생각하십니까?'].value_counts()\n",
        "  print(f'소속 {i}에 대한 나이대별 값 갯수: ')\n",
        "  print(counts)\n",
        "  print(f'소속 {i}의 쿠카이브 필요도는 {round(average, 3)}입니다.')\n",
        "  print(\"\\n\")"
      ],
      "metadata": {
        "id": "lNDvBWoceDYt",
        "colab": {
          "base_uri": "https://localhost:8080/"
        },
        "outputId": "cdeea72a-c582-40a9-ddeb-70a82720b90c"
      },
      "execution_count": null,
      "outputs": [
        {
          "output_type": "stream",
          "name": "stdout",
          "text": [
            "소속 0에 대한 나이대별 값 갯수: \n",
            "쿠카이브가 자신에게 필요하다고 생각하십니까?\n",
            "4.0    19\n",
            "5.0    13\n",
            "3.0    10\n",
            "2.0     1\n",
            "Name: count, dtype: int64\n",
            "소속 0의 쿠카이브 필요도는 4.023입니다.\n",
            "\n",
            "\n",
            "소속 1에 대한 나이대별 값 갯수: \n",
            "쿠카이브가 자신에게 필요하다고 생각하십니까?\n",
            "4.0    50\n",
            "5.0    36\n",
            "3.0    19\n",
            "2.0     4\n",
            "1.0     1\n",
            "Name: count, dtype: int64\n",
            "소속 1의 쿠카이브 필요도는 4.055입니다.\n",
            "\n",
            "\n",
            "소속 2에 대한 나이대별 값 갯수: \n",
            "쿠카이브가 자신에게 필요하다고 생각하십니까?\n",
            "4.0    20\n",
            "3.0    15\n",
            "5.0     9\n",
            "2.0     4\n",
            "Name: count, dtype: int64\n",
            "소속 2의 쿠카이브 필요도는 3.708입니다.\n",
            "\n",
            "\n",
            "소속 3에 대한 나이대별 값 갯수: \n",
            "쿠카이브가 자신에게 필요하다고 생각하십니까?\n",
            "4.0    28\n",
            "3.0    15\n",
            "5.0    12\n",
            "2.0     3\n",
            "Name: count, dtype: int64\n",
            "소속 3의 쿠카이브 필요도는 3.845입니다.\n",
            "\n",
            "\n",
            "소속 4에 대한 나이대별 값 갯수: \n",
            "쿠카이브가 자신에게 필요하다고 생각하십니까?\n",
            "5.0    5\n",
            "4.0    5\n",
            "2.0    1\n",
            "3.0    1\n",
            "Name: count, dtype: int64\n",
            "소속 4의 쿠카이브 필요도는 4.167입니다.\n",
            "\n",
            "\n",
            "소속 5에 대한 나이대별 값 갯수: \n",
            "쿠카이브가 자신에게 필요하다고 생각하십니까?\n",
            "4.0    55\n",
            "5.0    37\n",
            "3.0    25\n",
            "2.0     3\n",
            "Name: count, dtype: int64\n",
            "소속 5의 쿠카이브 필요도는 4.05입니다.\n",
            "\n",
            "\n",
            "소속 6에 대한 나이대별 값 갯수: \n",
            "쿠카이브가 자신에게 필요하다고 생각하십니까?\n",
            "3.0    4\n",
            "4.0    3\n",
            "Name: count, dtype: int64\n",
            "소속 6의 쿠카이브 필요도는 3.429입니다.\n",
            "\n",
            "\n",
            "소속 7에 대한 나이대별 값 갯수: \n",
            "쿠카이브가 자신에게 필요하다고 생각하십니까?\n",
            "4.0    13\n",
            "5.0     7\n",
            "3.0     4\n",
            "2.0     2\n",
            "Name: count, dtype: int64\n",
            "소속 7의 쿠카이브 필요도는 3.962입니다.\n",
            "\n",
            "\n",
            "소속 8에 대한 나이대별 값 갯수: \n",
            "쿠카이브가 자신에게 필요하다고 생각하십니까?\n",
            "4.0    8\n",
            "3.0    4\n",
            "5.0    1\n",
            "Name: count, dtype: int64\n",
            "소속 8의 쿠카이브 필요도는 3.769입니다.\n",
            "\n",
            "\n",
            "소속 9에 대한 나이대별 값 갯수: \n",
            "쿠카이브가 자신에게 필요하다고 생각하십니까?\n",
            "4.0    6\n",
            "3.0    6\n",
            "5.0    5\n",
            "2.0    2\n",
            "Name: count, dtype: int64\n",
            "소속 9의 쿠카이브 필요도는 3.737입니다.\n",
            "\n",
            "\n",
            "소속 10에 대한 나이대별 값 갯수: \n",
            "Series([], Name: count, dtype: int64)\n",
            "소속 10의 쿠카이브 필요도는 nan입니다.\n",
            "\n",
            "\n",
            "소속 11에 대한 나이대별 값 갯수: \n",
            "쿠카이브가 자신에게 필요하다고 생각하십니까?\n",
            "4.0    6\n",
            "3.0    3\n",
            "5.0    2\n",
            "Name: count, dtype: int64\n",
            "소속 11의 쿠카이브 필요도는 3.909입니다.\n",
            "\n",
            "\n",
            "소속 12에 대한 나이대별 값 갯수: \n",
            "쿠카이브가 자신에게 필요하다고 생각하십니까?\n",
            "5.0    2\n",
            "3.0    2\n",
            "4.0    2\n",
            "Name: count, dtype: int64\n",
            "소속 12의 쿠카이브 필요도는 4.0입니다.\n",
            "\n",
            "\n",
            "소속 13에 대한 나이대별 값 갯수: \n",
            "쿠카이브가 자신에게 필요하다고 생각하십니까?\n",
            "4.0    19\n",
            "5.0     9\n",
            "3.0     6\n",
            "2.0     1\n",
            "Name: count, dtype: int64\n",
            "소속 13의 쿠카이브 필요도는 4.029입니다.\n",
            "\n",
            "\n",
            "소속 14에 대한 나이대별 값 갯수: \n",
            "쿠카이브가 자신에게 필요하다고 생각하십니까?\n",
            "4.0    2\n",
            "3.0    1\n",
            "5.0    1\n",
            "Name: count, dtype: int64\n",
            "소속 14의 쿠카이브 필요도는 4.0입니다.\n",
            "\n",
            "\n",
            "소속 15에 대한 나이대별 값 갯수: \n",
            "쿠카이브가 자신에게 필요하다고 생각하십니까?\n",
            "4.0    2\n",
            "5.0    1\n",
            "Name: count, dtype: int64\n",
            "소속 15의 쿠카이브 필요도는 4.333입니다.\n",
            "\n",
            "\n",
            "소속 16에 대한 나이대별 값 갯수: \n",
            "쿠카이브가 자신에게 필요하다고 생각하십니까?\n",
            "4.0    10\n",
            "3.0     4\n",
            "5.0     3\n",
            "Name: count, dtype: int64\n",
            "소속 16의 쿠카이브 필요도는 3.941입니다.\n",
            "\n",
            "\n",
            "소속 17에 대한 나이대별 값 갯수: \n",
            "Series([], Name: count, dtype: int64)\n",
            "소속 17의 쿠카이브 필요도는 nan입니다.\n",
            "\n",
            "\n"
          ]
        }
      ]
    },
    {
      "cell_type": "markdown",
      "source": [
        "###쿠카이브를 알게 된 경로\n",
        "학교 커뮤니티 : 234\n",
        "포털 : 416\n",
        "교내 부서의 비교과 안내문 : 154\n",
        "본 설문조사 53\n",
        "주변인 : 307\n",
        "쿠카이브 행사 : 121\n",
        "기타 : 103"
      ],
      "metadata": {
        "id": "_MX_dJPAnCzK"
      }
    },
    {
      "cell_type": "code",
      "source": [
        "for idx, column in enumerate(undergraduate_data.columns):\n",
        "    print(f\"{idx+1}. {column}\")"
      ],
      "metadata": {
        "id": "VPLgF-IXfd6Q",
        "colab": {
          "base_uri": "https://localhost:8080/"
        },
        "outputId": "3232146e-6ba5-4d3e-abe0-7f3f693ee197"
      },
      "execution_count": null,
      "outputs": [
        {
          "output_type": "stream",
          "name": "stdout",
          "text": [
            "1. 번호\n",
            "2. 신분\n",
            "3. 소속\n",
            "4. 쿠카이브 기본 사항 관련 질문입니다.\n",
            "5. 어떠한 경로를 통해 쿠카이브를 처음 접했습니까?* 해당사항에 모두 표시\n",
            "6. 쿠카이브에서 이용해본 경험이 있는 영역에 모두 체크해주십시오.*해당 사항에 모두 표시\n",
            "7. 쿠카이브에서 자주 사용할(사용할 의향이 있는)것으로 예상되는 영역을 체크해주십시오.*해당사항 모두 표시\n",
            "8. 쿠카이브가 자신에게 필요하다고 생각하십니까?\n",
            "9. 쿠카이브 전반의 운영과 지원 만족도 관련 질문입니다.\n",
            "10. 쿠카이브 사용자 페이지의 전반적인 디자인과 화면은 이용하기 쉽게 구성되었다.\n",
            "11. 쿠카이브에서 제공하는 기능을 쉽게 이해하고 이용하였다.\n",
            "12. 전반적으로 쿠카이브에서는 참여자 관리와 활동 지원이 잘되고 있다.\n",
            "13. 쿠카이브 전반의 운영 및 지원과 관련하여 건의사항이 있다면 자유롭게 기술해주십시오.\n",
            "14. 쿠카이브 서비스 안정도 관련 질문입니다.\n",
            "15. 쿠카이브 사용자 페이지에서 서비스를 이용하는 동안 서버 상태 및 웹 사이트 접속은 원활하였다.\n",
            "16. 쿠카이브에서 제공하는 기능이 원활하게 작동되었다.\n",
            "17. 쿠카이브 기능별 만족도 관련 질문입니다.\n",
            "18. 쿠카이브 기능별 서비스(교과활동내역확인, 비교과프로그램 신청, 핵심역량진단, 통합 상담, 포트폴리오, 커뮤니티, 매뉴얼)는 전반적으로 만족스럽게 제공되고 있다\n",
            "19. [교과 활동 내역 확인]\n",
            "20. 쿠카이브에서 제공하는 “교과 활동(이수교과목 및 성적 조회 등)내역 확인”에 접속해본 경험이 있습니까?\n",
            "21. 참여경험이 있는 경우, 쿠카이브를 통한 “교과 활동 내역(이수교과목 및 성적 조회 등)” 확인이 만족스럽게 제공되었다.\n",
            "22. 쿠카이브를 통한 “교과 활동 (이수교과목 및 성적 조회 등) 내역 확인”과 관련하여 건의사항이 있다면 자유롭게 기술해주십시오.\n",
            "23. [비교과 프로그램]\n",
            "24. 쿠카이브에 개설된 교내 비교과 프로그램에 참여해본 경험이 있습니까?\n",
            "25. 참여경험이 있는 경우, 쿠카이브를 통한 비교과 프로그램 정보는 쉽게 이해할 수 있다.\n",
            "26. 쿠카이브를 통한 교내 비교과 프로그램 신청이 만족스럽게 진행되었다.\n",
            "27. 쿠카이브를 통한 교내 비교과 프로그램 운영과 관리 서비스는 만족스럽게 제공되었다.\n",
            "28. 쿠카이브를 통한 비교과 프로그램과 관련하여 건의사항이 있다면 자유롭게 기술해주십시오.\n",
            "29. [핵심역량]\n",
            "30. 쿠카이브를 통해 “핵심역량진단”에 참여해본 경험이 있습니까?\n",
            "31. 참여경험이 있는 경우, 쿠카이브를 통한 “핵심역량진단” 참여와 결과 확인은 쉽게 확인할 수 있다.\n",
            "32. 쿠카이브를 통한 “핵심역량진단” 운영과 관리 서비스는 만족스럽게 제공되었다.\n",
            "33. 쿠카이브를 통한 “핵심역량진단”와 관련하여 건의사항이 있다면 자유롭게 기술해주십시오.\n",
            "34. [통합상담]\n",
            "35. 쿠카이브를 통해 &#34;통합상담&#34;에 참여해본 적이 있습니까?\n",
            "36. 쿠카이브를 통한 통합 상담(교수면담, 심리상담, 학업코칭, 장애학생지원상담) 신청이 만족스럽게 진행되었다.\n",
            "37. 쿠카이브를 통한 통합 상담(교수면담, 심리상담, 학업코칭, 장애학생지원상담)운영과 관리 서비스가 만족스럽게 진행되었다.\n",
            "38. 쿠카이브를 통한 통합 상담(교수면담, 심리상담, 학업코칭, 장애학생지원상담)과 관련하여 건의사항이 있다면 자유롭게 기술해주십시오.\n",
            "39. [포트폴리오]\n",
            "40. 쿠카이브에서 제공하는 “포트폴리오(이력서, 자기소개서, 포트폴리오)” 기능을 사용해보신 적이 있습니까?\n",
            "41. 쿠카이브의 “포트폴리오(이력서, 자기소개서, E-포트폴리오)” 기능이 만족스럽게 제공되었다.\n",
            "42. 쿠카이브에서 제공되는 “포트폴리오(이력서, 자기소개서, 포트폴리오)” 와 관련하여 건의사항이 있다면 자유롭게 기술해주십시오.\n",
            "43. [커뮤니티]\n",
            "44. 쿠카이브 &#39;커뮤니티(공지사항, 자료실, Q&#38;A, 일반설문, FAQ 등)에서 제공하는 기능을 사용해보신 적이 있습니까?\n",
            "45. 쿠카이브를 통한 “커뮤니티(공지사항,자료실,Q&#38;A , 일반설문, FAQ 등)”기능이 만족스럽게 제공되었다.\n",
            "46. 쿠카이브에서 제공되는 “커뮤니티(공지사항,자료실,Q&#38;A,일반설문,FAQ 등)” 와 관련하여 건의사항이 있다면 자유롭게 기술해주십시오.\n",
            "47. [매뉴얼]\n",
            "48. 쿠카이브 “매뉴얼” 항목탭에 접속해보신 적이 있습니까?\n",
            "49. 쿠카이브에서 제공되는 “매뉴얼”과 관련하여 건의사항이 있다면 자유롭게 기술해주십시오.\n",
            "50. 비교과과정 관련 질문입니다.\n",
            "51. [비교과과정 기본 사항]\n",
            "52. 교내 비교과 프로그램에 참여한 적이 있습니까?\n",
            "53. 평소 교내 비교과 프로그램의 정보를 어디에서 취득하고 계십니까? *해당 사항에 모두 표시\n",
            "54. 교내 비교과 프로그램에 참여할 때 가장 중요하게 생각하는 요소는 무엇입니까?\n",
            "55. [비교과과정 만족도]\n",
            "56. 우리대학은 다양한 비교과 프로그램을 개설 및 운영하고 있다\n",
            "57. 우리대학의 비교과 프로그램은 목표에 맞는 적절한 내용을 다룬다.\n",
            "58. 우리대학의 비교과 프로그램에 전반적으로 만족한다.\n",
            "59. 향후 개설되었으면 하는 교내 비교과 프로그램에는 무엇이 있습니까? 자유롭게 기술해주십시오.\n"
          ]
        }
      ]
    },
    {
      "cell_type": "code",
      "source": [
        "for i in [19,23,29,34,39,43,47]:\n",
        "  print(undergraduate_data.iloc[:,i].str.contains(\"예\").value_counts())\n",
        "  true_count = undergraduate_data.iloc[:,i].str.contains(\"예\").sum()\n",
        "  print(f'참여 또는 사용 해본 비율은 {(true_count/543)*100:.1f}%입니다.')\n",
        "  print(\"\\n\")"
      ],
      "metadata": {
        "colab": {
          "base_uri": "https://localhost:8080/"
        },
        "id": "kh4T9s6Ae6uL",
        "outputId": "49bc03d2-483e-427c-a40a-746fb71e1203"
      },
      "execution_count": null,
      "outputs": [
        {
          "output_type": "stream",
          "name": "stdout",
          "text": [
            "쿠카이브에서 제공하는 “교과 활동(이수교과목 및 성적 조회 등)내역 확인”에 접속해본 경험이 있습니까?\n",
            "True     337\n",
            "False    206\n",
            "Name: count, dtype: int64\n",
            "참여 또는 사용 해본 비율은 62.1%입니다.\n",
            "\n",
            "\n",
            "쿠카이브에 개설된 교내 비교과 프로그램에 참여해본 경험이 있습니까?\n",
            "True     370\n",
            "False    173\n",
            "Name: count, dtype: int64\n",
            "참여 또는 사용 해본 비율은 68.1%입니다.\n",
            "\n",
            "\n",
            "쿠카이브를 통해 “핵심역량진단”에 참여해본 경험이 있습니까?\n",
            "False    355\n",
            "True     188\n",
            "Name: count, dtype: int64\n",
            "참여 또는 사용 해본 비율은 34.6%입니다.\n",
            "\n",
            "\n",
            "쿠카이브를 통해 &#34;통합상담&#34;에 참여해본 적이 있습니까?\n",
            "False    508\n",
            "True      35\n",
            "Name: count, dtype: int64\n",
            "참여 또는 사용 해본 비율은 6.4%입니다.\n",
            "\n",
            "\n",
            "쿠카이브에서 제공하는 “포트폴리오(이력서, 자기소개서, 포트폴리오)” 기능을 사용해보신 적이 있습니까?\n",
            "False    488\n",
            "True      55\n",
            "Name: count, dtype: int64\n",
            "참여 또는 사용 해본 비율은 10.1%입니다.\n",
            "\n",
            "\n",
            "쿠카이브 &#39;커뮤니티(공지사항, 자료실, Q&#38;A, 일반설문, FAQ 등)에서 제공하는 기능을 사용해보신 적이 있습니까?\n",
            "False    361\n",
            "True     182\n",
            "Name: count, dtype: int64\n",
            "참여 또는 사용 해본 비율은 33.5%입니다.\n",
            "\n",
            "\n",
            "쿠카이브 “매뉴얼” 항목탭에 접속해보신 적이 있습니까?\n",
            "False    492\n",
            "True      51\n",
            "Name: count, dtype: int64\n",
            "참여 또는 사용 해본 비율은 9.4%입니다.\n",
            "\n",
            "\n"
          ]
        }
      ]
    },
    {
      "cell_type": "code",
      "source": [
        "mask = pd.Series([True]*len(undergraduate_data))\n",
        "for i in [19,23,29,34,39,43,47]:\n",
        "  mask &= undergraduate_data.iloc[:,i].str.contains(\"예\")\n",
        "  mask_true_count = mask.sum()\n",
        "\n",
        "print(f'마스터 오브 마스터는 {mask.sum()}명으로 {(mask_true_count/543)*100:.2f}%입니다.')"
      ],
      "metadata": {
        "colab": {
          "base_uri": "https://localhost:8080/"
        },
        "id": "o4ynMezgq4JZ",
        "outputId": "56417aec-bb29-4f4b-c536-92eac76dd78d"
      },
      "execution_count": null,
      "outputs": [
        {
          "output_type": "stream",
          "name": "stdout",
          "text": [
            "마스터 오브 마스터는 2명으로 0.37%입니다.\n"
          ]
        }
      ]
    },
    {
      "cell_type": "code",
      "source": [
        "# 예락 분석문항1\n",
        "\n",
        "\n",
        "# 각 항목에 번호 부여\n",
        "Q1_code_map = {\n",
        "    '교과 활동': 1,\n",
        "    '비교과 프로그램': 2,\n",
        "    '핵심역량진단': 3,\n",
        "    '통합상담': 4,\n",
        "    '포트폴리오': 5,\n",
        "    '커뮤니티': 6,\n",
        "    '증명서 발급': 7\n",
        "}\n",
        "\n",
        "# 빈 카운트 딕셔너리 생성\n",
        "category_counts = {category: 0 for category in Q1_code_map.values()}\n",
        "\n",
        "# 각 응답에 대해 카운트\n",
        "for response in undergraduate_data['쿠카이브에서 이용해본 경험이 있는 영역에 모두 체크해주십시오.*해당 사항에 모두 표시'].dropna().astype(str):\n",
        "    for item, num in Q1_code_map.items():\n",
        "        if item in response:\n",
        "            category_counts[num] += 1\n",
        "\n",
        "# 결과 출력\n",
        "for category, count in category_counts.items():\n",
        "    print(f\"{category}: {count}\")\n",
        "\n",
        "# 결과를 데이터프레임으로 변환\n",
        "counts_df = pd.DataFrame(list(category_counts.items()), columns=['Category', 'Count'])\n",
        "print(counts_df)\n",
        "\n",
        "\n",
        "#시각화\n",
        "import matplotlib.pyplot as plt\n",
        "\n",
        "# 카운트 결과를 데이터프레임으로 변환\n",
        "counts_df = pd.DataFrame(list(category_counts.items()), columns=['Category', 'Count'])\n",
        "\n",
        "# 막대 그래프로 시각화\n",
        "plt.figure(figsize=(10, 6))\n",
        "plt.bar(counts_df['Category'], counts_df['Count'], color='skyblue')\n",
        "plt.title('Already Used')\n",
        "plt.xlabel('7 functions')\n",
        "plt.ylabel('Used')\n",
        "plt.xticks(rotation=45)  # X 축 레이블 회전\n",
        "plt.grid(axis='y', linestyle='--', alpha=0.7)\n",
        "plt.tight_layout()\n",
        "plt.show()"
      ],
      "metadata": {
        "colab": {
          "base_uri": "https://localhost:8080/",
          "height": 219
        },
        "id": "IdqGT44l-FP5",
        "outputId": "3e9760aa-1f0b-44d1-f69f-12245de34e6a"
      },
      "execution_count": null,
      "outputs": [
        {
          "output_type": "error",
          "ename": "NameError",
          "evalue": "name 'undergraduate_data' is not defined",
          "traceback": [
            "\u001b[0;31m---------------------------------------------------------------------------\u001b[0m",
            "\u001b[0;31mNameError\u001b[0m                                 Traceback (most recent call last)",
            "\u001b[0;32m<ipython-input-1-3246eac2cfd9>\u001b[0m in \u001b[0;36m<cell line: 19>\u001b[0;34m()\u001b[0m\n\u001b[1;32m     17\u001b[0m \u001b[0;34m\u001b[0m\u001b[0m\n\u001b[1;32m     18\u001b[0m \u001b[0;31m# 각 응답에 대해 카운트\u001b[0m\u001b[0;34m\u001b[0m\u001b[0;34m\u001b[0m\u001b[0m\n\u001b[0;32m---> 19\u001b[0;31m \u001b[0;32mfor\u001b[0m \u001b[0mresponse\u001b[0m \u001b[0;32min\u001b[0m \u001b[0mundergraduate_data\u001b[0m\u001b[0;34m[\u001b[0m\u001b[0;34m'쿠카이브에서 이용해본 경험이 있는 영역에 모두 체크해주십시오.*해당 사항에 모두 표시'\u001b[0m\u001b[0;34m]\u001b[0m\u001b[0;34m.\u001b[0m\u001b[0mdropna\u001b[0m\u001b[0;34m(\u001b[0m\u001b[0;34m)\u001b[0m\u001b[0;34m.\u001b[0m\u001b[0mastype\u001b[0m\u001b[0;34m(\u001b[0m\u001b[0mstr\u001b[0m\u001b[0;34m)\u001b[0m\u001b[0;34m:\u001b[0m\u001b[0;34m\u001b[0m\u001b[0;34m\u001b[0m\u001b[0m\n\u001b[0m\u001b[1;32m     20\u001b[0m     \u001b[0;32mfor\u001b[0m \u001b[0mitem\u001b[0m\u001b[0;34m,\u001b[0m \u001b[0mnum\u001b[0m \u001b[0;32min\u001b[0m \u001b[0mQ1_code_map\u001b[0m\u001b[0;34m.\u001b[0m\u001b[0mitems\u001b[0m\u001b[0;34m(\u001b[0m\u001b[0;34m)\u001b[0m\u001b[0;34m:\u001b[0m\u001b[0;34m\u001b[0m\u001b[0;34m\u001b[0m\u001b[0m\n\u001b[1;32m     21\u001b[0m         \u001b[0;32mif\u001b[0m \u001b[0mitem\u001b[0m \u001b[0;32min\u001b[0m \u001b[0mresponse\u001b[0m\u001b[0;34m:\u001b[0m\u001b[0;34m\u001b[0m\u001b[0;34m\u001b[0m\u001b[0m\n",
            "\u001b[0;31mNameError\u001b[0m: name 'undergraduate_data' is not defined"
          ]
        }
      ]
    },
    {
      "cell_type": "code",
      "source": [
        "# 예락 분석문항2\n",
        "\n",
        "\n",
        "# 각 항목에 번호 부여\n",
        "Q1_code_map = {\n",
        "    '교과 활동': 1,\n",
        "    '비교과 프로그램': 2,\n",
        "    '핵심역량진단': 3,\n",
        "    '통합상담': 4,\n",
        "    '포트폴리오': 5,\n",
        "    '커뮤니티': 6,\n",
        "    '증명서 발급': 7\n",
        "}\n",
        "\n",
        "# 빈 카운트 딕셔너리 생성\n",
        "category_counts = {category: 0 for category in Q1_code_map.values()}\n",
        "\n",
        "# 각 응답에 대해 카운트\n",
        "for response in undergraduate_data['쿠카이브에서 자주 사용할(사용할 의향이 있는)것으로 예상되는 영역을 체크해주십시오.*해당사항 모두 표시'].dropna().astype(str):\n",
        "    for item, num in Q1_code_map.items():\n",
        "        if item in response:\n",
        "            category_counts[num] += 1\n",
        "\n",
        "# 결과 출력\n",
        "for category, count in category_counts.items():\n",
        "    print(f\"{category}: {count}\")\n",
        "\n",
        "# 결과를 데이터프레임으로 변환\n",
        "counts_df = pd.DataFrame(list(category_counts.items()), columns=['Category', 'Count'])\n",
        "print(counts_df)\n",
        "\n",
        "\n",
        "#시각화\n",
        "import matplotlib.pyplot as plt\n",
        "\n",
        "# 카운트 결과를 데이터프레임으로 변환\n",
        "counts_df = pd.DataFrame(list(category_counts.items()), columns=['Category', 'Count'])\n",
        "\n",
        "# 막대 그래프로 시각화\n",
        "plt.figure(figsize=(10, 6))\n",
        "plt.bar(counts_df['Category'], counts_df['Count'], color='skyblue')\n",
        "plt.title('Future Use')\n",
        "plt.xlabel('7 functions')\n",
        "plt.ylabel('Expected Us')\n",
        "plt.xticks(rotation=45)  # X 축 레이블 회전\n",
        "plt.grid(axis='y', linestyle='--', alpha=0.7)\n",
        "plt.tight_layout()\n",
        "plt.show()\n",
        "\n"
      ],
      "metadata": {
        "id": "A-lUXyhE-MTq"
      },
      "execution_count": null,
      "outputs": []
    },
    {
      "cell_type": "code",
      "source": [
        "#예락 분석문항 1,2 합친 그래프\n",
        "\n",
        "import matplotlib.pyplot as plt\n",
        "import numpy as np\n",
        "\n",
        "# 첫 번째 조사 결과\n",
        "already_used = [327, 389, 0, 38, 42, 94, 178]\n",
        "\n",
        "# 두 번째 조사 결과\n",
        "future_use = [272, 393, 163, 151, 192, 87, 223]\n",
        "\n",
        "# 카테고리 레이블\n",
        "categories = ['1', '2', '3', '4', '5', '6', '7']\n",
        "\n",
        "# 막대 그래프의 위치 설정\n",
        "x = np.arange(len(categories))\n",
        "\n",
        "# 막대 그래프 그리기\n",
        "plt.figure(figsize=(12, 6))\n",
        "plt.bar(x - 0.2, already_used, width=0.4, label='Already Used', color='skyblue')\n",
        "plt.bar(x + 0.2, future_use, width=0.4, label='Future Use', color='orange')\n",
        "\n",
        "# 그래프 제목과 축 레이블\n",
        "plt.title('Comparison of Already Used and Future Use')\n",
        "plt.xlabel('Functions')\n",
        "plt.ylabel('Count')\n",
        "plt.xticks(x, categories, rotation=45)\n",
        "\n",
        "# 범례 추가\n",
        "plt.legend()\n",
        "\n",
        "# 그리드 추가\n",
        "plt.grid(axis='y', linestyle='--', alpha=0.7)\n",
        "\n",
        "# 그래프 출력\n",
        "plt.tight_layout()\n",
        "plt.show()\n"
      ],
      "metadata": {
        "id": "KYg2AxhH-PJm"
      },
      "execution_count": null,
      "outputs": []
    }
  ]
}